{
 "cells": [
  {
   "cell_type": "code",
   "execution_count": null,
   "metadata": {},
   "outputs": [],
   "source": [
    "import tensorflow as tf\n",
    "from tensorflow import keras\n",
    "from tensorflow.keras.models import Sequential\n",
    "import numpy as np\n",
    "from lhapdf import mkPDF, setVerbosity\n",
    "from n3fit.model_gen import pdfNN_layer_generator\n",
    "from validphys.api import API\n",
    "from n3fit.layers.rotations import FkRotation\n",
    "from matplotlib import pyplot as plt\n",
    "\n",
    "tf.keras.backend.clear_session()\n",
    "setVerbosity(0)"
   ]
  },
  {
   "cell_type": "code",
   "execution_count": null,
   "metadata": {},
   "outputs": [],
   "source": [
    "pdf_set = \"NNPDF40_nnlo_as_01180\"\n",
    "pdf_target = mkPDF(pdf_set)\n",
    "\n",
    "def pid_to_latex(pid):\n",
    "    \"\"\"Function to translate the PID number into latex values, useful for plotting\"\"\"\n",
    "    translate = {21: \"g\", 1: \"d\", 2: \"u\", 3: \"s\", 4: \"c\", 5: \"b\", 6: \"t\"}\n",
    "    flav = translate[abs(pid)]\n",
    "    if pid < 0:\n",
    "        flav = rf\"\\bar{{{flav}}}\"\n",
    "    return flav"
   ]
  },
  {
   "cell_type": "code",
   "execution_count": null,
   "metadata": {},
   "outputs": [],
   "source": [
    "q0 = 1.65  # Reference scale\n",
    "npoints = int(5e4)  # How many points to use for training\n",
    "xgrid = np.concatenate([np.logspace(-5, -1, npoints // 2), np.linspace(0.1, 1, npoints // 2)])[::200]\n",
    "pdf_grid_all = pdf_target.xfxQ2(xgrid, np.ones_like(xgrid) * q0**2)"
   ]
  },
  {
   "cell_type": "code",
   "execution_count": null,
   "metadata": {},
   "outputs": [],
   "source": [
    "fit_info = API.fit(fit=\"NNPDF40_nnlo_as_01180_1000\").as_input()\n",
    "basis_info = fit_info[\"fitting\"][\"basis\"]\n",
    "\n",
    "pdf_model = pdfNN_layer_generator(\n",
    "    nodes=[25,20, 8],\n",
    "    activations=['tanh','tanh','linear'],\n",
    "    initializer_name=\"glorot_normal\",\n",
    "    layer_type=\"dense\",\n",
    "    flav_info=basis_info,\n",
    "    fitbasis=\"EVOL\",\n",
    "    out=14,\n",
    "    seed=np.random.randint(0, pow(2, 31)),\n",
    "    dropout=0.0,\n",
    "    regularizer=None,\n",
    "    regularizer_args=None,\n",
    "    impose_sumrule=False, # NOTE: imposing sumrules will break Gaussianity to a large extent\n",
    "    scaler=None,\n",
    "    num_replicas = 1,\n",
    "    photons=None,\n",
    "    replica_axis=True,\n",
    ")\n",
    "\n",
    "lossfn = tf.keras.losses.MeanSquaredError()\n",
    "clipnorm = 6.073e-6\n",
    "pdf_model.compile(optimizer_name='Nadam', learning_rate=2.621e-3, clipnorm=None, loss=lossfn)\n"
   ]
  },
  {
   "cell_type": "code",
   "execution_count": null,
   "metadata": {},
   "outputs": [],
   "source": [
    "# rotate from flavor basis to evolution basis (9 flavor)\n",
    "def flav_to_evol(flav_vector):\n",
    "    cbar = flav_vector[0]\n",
    "    sbar = flav_vector[1]\n",
    "    ubar = flav_vector[2]\n",
    "    dbar = flav_vector[3]\n",
    "    gluon = flav_vector[4]\n",
    "    d = flav_vector[5]\n",
    "    u = flav_vector[6]\n",
    "    s = flav_vector[7]\n",
    "    c = flav_vector[8]\n",
    "\n",
    "    cp = 2*c\n",
    "    sigma = u + ubar + d + dbar + s + sbar + cp\n",
    "    v = u - ubar + d - dbar + s - sbar + c - cbar\n",
    "    v3 = u - ubar - d + dbar\n",
    "    v8 = u - ubar + d - dbar - 2*s + 2*sbar\n",
    "    t3 = u + ubar - d - dbar\n",
    "    t8 = u + ubar + d + dbar - 2*s - 2*sbar\n",
    "    g = gluon\n",
    "    v15 = u-ubar+d-dbar+s-sbar-3*c+3*cbar\n",
    "\n",
    "    evol_vector = np.array([sigma, g, v, v3, v8, t3, t8, cp ,v15])\n",
    "    return evol_vector"
   ]
  },
  {
   "cell_type": "code",
   "execution_count": null,
   "metadata": {},
   "outputs": [],
   "source": [
    "# Create training output data in the 14 flavour FK table basis\n",
    "\n",
    "output_basis = [-4, -3, -2, -1, 21, 1, 2, 3, 4]\n",
    "output_size = len(output_basis)\n",
    "\n",
    "output_data = np.zeros((len(pdf_grid_all), output_size))\n",
    "\n",
    "for i, pdf_grid in enumerate(pdf_grid_all):\n",
    "    for j, pid in enumerate(output_basis):\n",
    "        output_data[i, j] = pdf_grid[pid]\n",
    "\n",
    "output_data = np.array(output_data)\n",
    "\n",
    "training_data = flav_to_evol(output_data.T)\n",
    "training_data = training_data.T@FkRotation()._create_rotation_matrix() # 9 flav fitting basis to 14 flav fk basis"
   ]
  },
  {
   "cell_type": "code",
   "execution_count": null,
   "metadata": {},
   "outputs": [],
   "source": [
    "def compute_ntk(model, input):\n",
    "    grad = []\n",
    "    for data_index in range(input.size):\n",
    "        x = tf.convert_to_tensor(input[:,[data_index],:])\n",
    "        with tf.GradientTape() as tape:\n",
    "            tape.watch(x)\n",
    "            pred = model(x)\n",
    "\n",
    "        # compute gradients df(x)/dtheta\n",
    "        g = tape.gradient(pred, model.trainable_variables)\n",
    "        # concatenate the gradients of all trainable variables,\n",
    "        # not discriminating between weights and biases\n",
    "        g = tf.concat([tf.reshape(i, shape=(-1,1)) for i in g], axis=0)\n",
    "        grad.append(g)\n",
    "\n",
    "    grad = tf.concat(grad,axis=1)\n",
    "    ntk = tf.einsum('ij,ik->jk',grad,grad)\n",
    "    return ntk\n"
   ]
  },
  {
   "cell_type": "code",
   "execution_count": null,
   "metadata": {},
   "outputs": [],
   "source": [
    "inputgrid = np.expand_dims(xgrid,axis=(0,2))\n",
    "traininggrid = np.expand_dims(training_data,axis=(0,1))\n",
    "ntks = []\n",
    "for epochs in 1*[1000]:\n",
    "    pdf_model.fit(inputgrid, traininggrid, epochs=epochs)\n",
    "    ntks.append(compute_ntk(pdf_model,inputgrid))"
   ]
  },
  {
   "cell_type": "code",
   "execution_count": null,
   "metadata": {},
   "outputs": [],
   "source": [
    "rel_change = []\n",
    "for ntk in ntks[1:]:\n",
    "    rel_change.append((tf.norm(ntks[0] - ntk) / tf.norm(ntks[0])).numpy())"
   ]
  },
  {
   "cell_type": "code",
   "execution_count": null,
   "metadata": {},
   "outputs": [],
   "source": [
    "rel_change"
   ]
  },
  {
   "cell_type": "code",
   "execution_count": null,
   "metadata": {},
   "outputs": [],
   "source": [
    "def compare_pdfs(xgrid, traininggrid, pdf_model):\n",
    "    preds = pdf_model(xgrid)[0,0]\n",
    "    training_data = traininggrid[0,0,:]\n",
    "    x = xgrid[0,:,0]\n",
    "    fig, ax = plt.subplots(4, 2, figsize=(12, 6), sharex=True)\n",
    "    flavs = [\"sigma\", 'g', 'v', 'v3', 'v8', 't3', 't8', 't15']\n",
    "    for i, fl in enumerate([1,2,3,4,5,9,10,11]): # 8 flavor basis: sigma, g, v, v3, v8, t3, t8, t15\n",
    "        plt.subplot(4, 2, i+1)\n",
    "        plt.ylabel(fr'$x${flavs[i]}')\n",
    "        plt.plot(x,preds[:,fl], label=\"NN\")\n",
    "        plt.plot(x,training_data[:,fl], label=\"NNPDF4.0\")\n",
    "        plt.legend()\n",
    "        plt.xscale('log')"
   ]
  },
  {
   "cell_type": "code",
   "execution_count": null,
   "metadata": {},
   "outputs": [],
   "source": [
    "compare_pdfs(inputgrid, traininggrid, pdf_model)"
   ]
  }
 ],
 "metadata": {
  "kernelspec": {
   "display_name": "nnpdf",
   "language": "python",
   "name": "python3"
  },
  "language_info": {
   "codemirror_mode": {
    "name": "ipython",
    "version": 3
   },
   "file_extension": ".py",
   "mimetype": "text/x-python",
   "name": "python",
   "nbconvert_exporter": "python",
   "pygments_lexer": "ipython3",
   "version": "3.9.18"
  }
 },
 "nbformat": 4,
 "nbformat_minor": 2
}
