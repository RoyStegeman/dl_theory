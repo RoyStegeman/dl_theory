{
 "cells": [
  {
   "cell_type": "code",
   "execution_count": 1,
   "metadata": {},
   "outputs": [
    {
     "name": "stderr",
     "output_type": "stream",
     "text": [
      "2024-01-29 17:08:22.157862: I external/local_tsl/tsl/cuda/cudart_stub.cc:31] Could not find cuda drivers on your machine, GPU will not be used.\n",
      "2024-01-29 17:08:22.197731: E external/local_xla/xla/stream_executor/cuda/cuda_dnn.cc:9261] Unable to register cuDNN factory: Attempting to register factory for plugin cuDNN when one has already been registered\n",
      "2024-01-29 17:08:22.197762: E external/local_xla/xla/stream_executor/cuda/cuda_fft.cc:607] Unable to register cuFFT factory: Attempting to register factory for plugin cuFFT when one has already been registered\n",
      "2024-01-29 17:08:22.198950: E external/local_xla/xla/stream_executor/cuda/cuda_blas.cc:1515] Unable to register cuBLAS factory: Attempting to register factory for plugin cuBLAS when one has already been registered\n",
      "2024-01-29 17:08:22.205480: I external/local_tsl/tsl/cuda/cudart_stub.cc:31] Could not find cuda drivers on your machine, GPU will not be used.\n",
      "2024-01-29 17:08:22.205927: I tensorflow/core/platform/cpu_feature_guard.cc:182] This TensorFlow binary is optimized to use available CPU instructions in performance-critical operations.\n",
      "To enable the following instructions: AVX2 FMA, in other operations, rebuild TensorFlow with the appropriate compiler flags.\n",
      "2024-01-29 17:08:23.173015: W tensorflow/compiler/tf2tensorrt/utils/py_utils.cc:38] TF-TRT Warning: Could not find TensorRT\n"
     ]
    },
    {
     "name": "stdout",
     "output_type": "stream",
     "text": [
      "WARNING:tensorflow:From /home/roy/miniconda3/envs/nnpdf/lib/python3.9/site-packages/tensorflow/python/util/deprecation.py:588: calling function (from tensorflow.python.eager.polymorphic_function.polymorphic_function) with experimental_relax_shapes is deprecated and will be removed in a future version.\n",
      "Instructions for updating:\n",
      "experimental_relax_shapes is deprecated, use reduce_retracing instead\n",
      "Using Keras backend\n"
     ]
    }
   ],
   "source": [
    "import tensorflow as tf\n",
    "from tensorflow import keras\n",
    "from tensorflow.keras.models import Sequential\n",
    "import numpy as np\n",
    "from lhapdf import mkPDF, setVerbosity\n",
    "from n3fit.model_gen import pdfNN_layer_generator\n",
    "from validphys.api import API\n",
    "from n3fit.layers.rotations import FkRotation\n",
    "\n",
    "tf.keras.backend.clear_session()\n",
    "setVerbosity(0)"
   ]
  },
  {
   "cell_type": "code",
   "execution_count": 2,
   "metadata": {},
   "outputs": [],
   "source": [
    "pdf_set = \"NNPDF40_nnlo_as_01180\"\n",
    "pdf_target = mkPDF(pdf_set)\n",
    "\n",
    "def pid_to_latex(pid):\n",
    "    \"\"\"Function to translate the PID number into latex values, useful for plotting\"\"\"\n",
    "    translate = {21: \"g\", 1: \"d\", 2: \"u\", 3: \"s\", 4: \"c\", 5: \"b\", 6: \"t\"}\n",
    "    flav = translate[abs(pid)]\n",
    "    if pid < 0:\n",
    "        flav = rf\"\\bar{{{flav}}}\"\n",
    "    return flav"
   ]
  },
  {
   "cell_type": "code",
   "execution_count": 3,
   "metadata": {},
   "outputs": [],
   "source": [
    "q0 = 1.65  # Reference scale\n",
    "npoints = int(5e4)  # How many points to use for training\n",
    "xgrid = np.concatenate([np.logspace(-5, -1, npoints // 2), np.linspace(0.1, 1, npoints // 2)])[::200]\n",
    "pdf_grid_all = pdf_target.xfxQ2(xgrid, np.ones_like(xgrid) * q0**2)"
   ]
  },
  {
   "cell_type": "code",
   "execution_count": 4,
   "metadata": {},
   "outputs": [],
   "source": [
    "fit_info = API.fit(fit=\"NNPDF40_nnlo_as_01180_1000\").as_input()\n",
    "basis_info = fit_info[\"fitting\"][\"basis\"]\n",
    "\n",
    "pdf_model = pdfNN_layer_generator(\n",
    "    nodes=[25,20, 8],\n",
    "    activations=['tanh','tanh','linear'],\n",
    "    initializer_name=\"glorot_normal\",\n",
    "    layer_type=\"dense\",\n",
    "    flav_info=basis_info,\n",
    "    fitbasis=\"EVOL\",\n",
    "    out=14,\n",
    "    seed=np.random.randint(0, pow(2, 31)),\n",
    "    dropout=0.0,\n",
    "    regularizer=None,\n",
    "    regularizer_args=None,\n",
    "    impose_sumrule=False, # NOTE: imposing sumrules will break Gaussianity to a large extent\n",
    "    scaler=None,\n",
    "    num_replicas = 1,\n",
    "    photons=None,\n",
    "    replica_axis=True,\n",
    ")\n",
    "\n",
    "lossfn = tf.keras.losses.MeanSquaredError()\n",
    "pdf_model.compile(optimizer_name='Nadam', learning_rate=2.621e-3, clipnorm=6.073e-6, loss=lossfn)\n"
   ]
  },
  {
   "cell_type": "code",
   "execution_count": 5,
   "metadata": {},
   "outputs": [],
   "source": [
    "# rotate from flavor basis to evolution basis (9 flavor)\n",
    "def flav_to_evol(flav_vector):\n",
    "    cbar = flav_vector[0]\n",
    "    sbar = flav_vector[1]\n",
    "    ubar = flav_vector[2]\n",
    "    dbar = flav_vector[3]\n",
    "    gluon = flav_vector[4]\n",
    "    d = flav_vector[5]\n",
    "    u = flav_vector[6]\n",
    "    s = flav_vector[7]\n",
    "    c = flav_vector[8]\n",
    "\n",
    "    cp = 2*c\n",
    "    sigma = u + ubar + d + dbar + s + sbar + cp\n",
    "    v = u - ubar + d - dbar + s - sbar + c - cbar\n",
    "    v3 = u - ubar - d + dbar\n",
    "    v8 = u - ubar + d - dbar - 2*s + 2*sbar\n",
    "    t3 = u + ubar - d - dbar\n",
    "    t8 = u + ubar + d + dbar - 2*s - 2*sbar\n",
    "    g = gluon\n",
    "    v15 = u-ubar+d-dbar+s-sbar-3*c+3*cbar\n",
    "\n",
    "    evol_vector = np.array([sigma, g, v, v3, v8, t3, t8, cp ,v15])\n",
    "    return evol_vector"
   ]
  },
  {
   "cell_type": "code",
   "execution_count": 6,
   "metadata": {},
   "outputs": [],
   "source": [
    "# Create training output data in the 14 flavour FK table basis\n",
    "\n",
    "output_basis = [-4, -3, -2, -1, 21, 1, 2, 3, 4]\n",
    "output_size = len(output_basis)\n",
    "\n",
    "output_data = np.zeros((len(pdf_grid_all), output_size))\n",
    "\n",
    "for i, pdf_grid in enumerate(pdf_grid_all):\n",
    "    for j, pid in enumerate(output_basis):\n",
    "        output_data[i, j] = pdf_grid[pid]\n",
    "\n",
    "output_data = np.array(output_data)\n",
    "\n",
    "training_data = flav_to_evol(output_data.T)\n",
    "training_data = training_data.T@FkRotation()._create_rotation_matrix() # 9 flav fitting basis to 14 flav fk basis"
   ]
  },
  {
   "cell_type": "code",
   "execution_count": 7,
   "metadata": {},
   "outputs": [],
   "source": [
    "def compute_ntk(model, input):\n",
    "    grad = []\n",
    "    for x in tf.convert_to_tensor(input):\n",
    "        with tf.GradientTape() as tape:\n",
    "            # x = tf.reshape(x, shape=(-1,1))\n",
    "            tape.watch(x)\n",
    "            pred = model(x)\n",
    "\n",
    "        # compute gradients df(x)/dtheta\n",
    "        g = tape.gradient(pred, model.trainable_variables)\n",
    "        # concatenate the gradients of all trainable variables,\n",
    "        # not discriminating between weights and biases\n",
    "        g = tf.concat([tf.reshape(i, shape=(-1,1)) for i in g], axis=0)\n",
    "        grad.append(g)\n",
    "\n",
    "    grad = tf.concat(grad,axis=1)\n",
    "    ntk = tf.einsum('ij,ik->jk',grad,grad)\n",
    "    return ntk\n"
   ]
  },
  {
   "cell_type": "code",
   "execution_count": 8,
   "metadata": {},
   "outputs": [
    {
     "name": "stdout",
     "output_type": "stream",
     "text": [
      "Epoch 1/2\n",
      "1/1 [==============================] - 2s 2s/step - loss: 0.8718\n",
      "Epoch 2/2\n",
      "1/1 [==============================] - 0s 6ms/step - loss: 0.7454\n",
      "Epoch 1/2\n",
      "1/1 [==============================] - 0s 5ms/step - loss: 0.6487\n",
      "Epoch 2/2\n",
      "1/1 [==============================] - 0s 4ms/step - loss: 0.5628\n",
      "Epoch 1/2\n",
      "1/1 [==============================] - 0s 6ms/step - loss: 0.4889\n",
      "Epoch 2/2\n",
      "1/1 [==============================] - 0s 5ms/step - loss: 0.4279\n",
      "Epoch 1/2\n",
      "1/1 [==============================] - 0s 5ms/step - loss: 0.3796\n",
      "Epoch 2/2\n",
      "1/1 [==============================] - 0s 4ms/step - loss: 0.3427\n",
      "Epoch 1/2\n",
      "1/1 [==============================] - 0s 6ms/step - loss: 0.3144\n",
      "Epoch 2/2\n",
      "1/1 [==============================] - 0s 6ms/step - loss: 0.2914\n",
      "Epoch 1/2\n",
      "1/1 [==============================] - 0s 8ms/step - loss: 0.2720\n",
      "Epoch 2/2\n",
      "1/1 [==============================] - 0s 6ms/step - loss: 0.2553\n",
      "Epoch 1/2\n",
      "1/1 [==============================] - 0s 5ms/step - loss: 0.2410\n",
      "Epoch 2/2\n",
      "1/1 [==============================] - 0s 4ms/step - loss: 0.2286\n",
      "Epoch 1/2\n",
      "1/1 [==============================] - 0s 5ms/step - loss: 0.2179\n",
      "Epoch 2/2\n",
      "1/1 [==============================] - 0s 5ms/step - loss: 0.2083\n",
      "Epoch 1/2\n",
      "1/1 [==============================] - 0s 5ms/step - loss: 0.1993\n",
      "Epoch 2/2\n",
      "1/1 [==============================] - 0s 4ms/step - loss: 0.1907\n",
      "Epoch 1/2\n",
      "1/1 [==============================] - 0s 5ms/step - loss: 0.1822\n",
      "Epoch 2/2\n",
      "1/1 [==============================] - 0s 5ms/step - loss: 0.1738\n"
     ]
    }
   ],
   "source": [
    "inputgrid = np.expand_dims(xgrid,axis=(0,2))\n",
    "traininggrid = np.expand_dims(training_data,axis=(0,1))\n",
    "ntks = []\n",
    "for epochs in 10*[2]:\n",
    "    pdf_model.fit(inputgrid, traininggrid, epochs=epochs)\n",
    "    ntks.append(compute_ntk(pdf_model,np.swapaxes(inputgrid, axis1=1, axis2=2)))"
   ]
  },
  {
   "cell_type": "code",
   "execution_count": 9,
   "metadata": {},
   "outputs": [],
   "source": [
    "rel_change = []\n",
    "for ntk in ntks[1:]:\n",
    "    rel_change.append((tf.norm(ntks[0] - ntk) / tf.norm(ntks[0])).numpy())"
   ]
  },
  {
   "cell_type": "code",
   "execution_count": 10,
   "metadata": {},
   "outputs": [
    {
     "data": {
      "text/plain": [
       "[0.022952486,\n",
       " 0.052123144,\n",
       " 0.08709725,\n",
       " 0.115537934,\n",
       " 0.1352531,\n",
       " 0.15246178,\n",
       " 0.16642924,\n",
       " 0.17687486,\n",
       " 0.18540986]"
      ]
     },
     "execution_count": 10,
     "metadata": {},
     "output_type": "execute_result"
    }
   ],
   "source": [
    "rel_change"
   ]
  },
  {
   "cell_type": "code",
   "execution_count": 11,
   "metadata": {},
   "outputs": [
    {
     "data": {
      "text/plain": [
       "<tf.Tensor: shape=(), dtype=float32, numpy=27628380.0>"
      ]
     },
     "execution_count": 11,
     "metadata": {},
     "output_type": "execute_result"
    }
   ],
   "source": [
    "tf.norm(ntks[0])"
   ]
  },
  {
   "cell_type": "code",
   "execution_count": 12,
   "metadata": {},
   "outputs": [
    {
     "data": {
      "text/plain": [
       "[<tf.Tensor: shape=(), dtype=float32, numpy=27628380.0>,\n",
       " <tf.Tensor: shape=(), dtype=float32, numpy=26994240.0>,\n",
       " <tf.Tensor: shape=(), dtype=float32, numpy=26188302.0>,\n",
       " <tf.Tensor: shape=(), dtype=float32, numpy=25222024.0>,\n",
       " <tf.Tensor: shape=(), dtype=float32, numpy=24436254.0>,\n",
       " <tf.Tensor: shape=(), dtype=float32, numpy=23891556.0>,\n",
       " <tf.Tensor: shape=(), dtype=float32, numpy=23416108.0>,\n",
       " <tf.Tensor: shape=(), dtype=float32, numpy=23030210.0>,\n",
       " <tf.Tensor: shape=(), dtype=float32, numpy=22741614.0>,\n",
       " <tf.Tensor: shape=(), dtype=float32, numpy=22505806.0>]"
      ]
     },
     "execution_count": 12,
     "metadata": {},
     "output_type": "execute_result"
    }
   ],
   "source": [
    "[tf.norm(ntk) for ntk in ntks]"
   ]
  }
 ],
 "metadata": {
  "kernelspec": {
   "display_name": "nnpdf",
   "language": "python",
   "name": "python3"
  },
  "language_info": {
   "codemirror_mode": {
    "name": "ipython",
    "version": 3
   },
   "file_extension": ".py",
   "mimetype": "text/x-python",
   "name": "python",
   "nbconvert_exporter": "python",
   "pygments_lexer": "ipython3",
   "version": "3.9.18"
  }
 },
 "nbformat": 4,
 "nbformat_minor": 2
}
