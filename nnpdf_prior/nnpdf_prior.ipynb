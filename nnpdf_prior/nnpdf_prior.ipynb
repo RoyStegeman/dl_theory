{
 "cells": [
  {
   "cell_type": "code",
   "execution_count": null,
   "metadata": {},
   "outputs": [],
   "source": [
    "from matplotlib import pyplot as plt\n",
    "import numpy as np\n",
    "import tensorflow as tf\n",
    "tf.get_logger().setLevel('ERROR')\n",
    "from tqdm import tqdm\n",
    "\n",
    "from n3fit.model_gen import pdfNN_layer_generator\n",
    "from n3fit.io.writer import XGRID\n",
    "\n",
    "from validphys.api import API"
   ]
  },
  {
   "cell_type": "code",
   "execution_count": null,
   "metadata": {},
   "outputs": [],
   "source": [
    "np.random.seed(0)"
   ]
  },
  {
   "cell_type": "code",
   "execution_count": null,
   "metadata": {},
   "outputs": [],
   "source": [
    "# Number of networks to initialize with random parameters\n",
    "number_of_networks = 100\n",
    "\n",
    "# input xgrid for which to produce the corresponding outputs\n",
    "input_xgrid = XGRID.reshape(1,-1,1)"
   ]
  },
  {
   "cell_type": "code",
   "execution_count": null,
   "metadata": {},
   "outputs": [],
   "source": [
    "# read basis settings from a fit runcard (optional, but basis_info is useful)\n",
    "fit_info = API.fit(fit=\"NNPDF40_nnlo_as_01180_1000\").as_input()\n",
    "\n",
    "basis_info = fit_info[\"fitting\"][\"basis\"]\n",
    "\n",
    "nodes = fit_info[\"parameters\"][\"nodes_per_layer\"]\n",
    "activations = fit_info[\"parameters\"][\"activation_per_layer\"]\n",
    "initializer_name = fit_info[\"parameters\"][\"initializer\"]\n",
    "layer_type = fit_info[\"parameters\"][\"layer_type\"]\n",
    "dropout = fit_info[\"parameters\"][\"dropout\"]"
   ]
  },
  {
   "cell_type": "code",
   "execution_count": null,
   "metadata": {},
   "outputs": [],
   "source": [
    "# remove preprocessing\n",
    "for binf in basis_info:\n",
    "    binf['smallx'] = [1, 1]\n",
    "    binf['largex'] = [0, 0]"
   ]
  },
  {
   "cell_type": "code",
   "execution_count": null,
   "metadata": {},
   "outputs": [],
   "source": [
    "def scaler(x):\n",
    "    # x_scaled = np.log(x)\n",
    "    # x_scaled = 2 * x_scaled - 1\n",
    "    return np.concatenate([x, x], axis=-1)"
   ]
  },
  {
   "cell_type": "code",
   "execution_count": null,
   "metadata": {},
   "outputs": [],
   "source": [
    "nn_outputs = []\n",
    "for i in tqdm(range(number_of_networks)):\n",
    "    # Initialize the NNPDF model with given hyperparameters\n",
    "    pdf_model = pdfNN_layer_generator(\n",
    "        nodes=[25, 20, 8],\n",
    "        activations=[\"tanh\", \"tanh\", \"linear\"],\n",
    "        initializer_name=\"glorot_normal\",\n",
    "        layer_type=\"dense\",\n",
    "        flav_info=basis_info,\n",
    "        fitbasis=\"EVOL\",\n",
    "        out=14,\n",
    "        seed=np.random.randint(0, pow(2, 31)),\n",
    "        dropout=0.0,\n",
    "        regularizer=None,\n",
    "        regularizer_args=None,\n",
    "        impose_sumrule=False,\n",
    "        scaler=scaler,\n",
    "    )\n",
    "\n",
    "\n",
    "    # Generate predictions in 14-flavor basis\n",
    "    out = pdf_model.predict({\"pdf_input\": input_xgrid.T}, verbose=False)\n",
    "\n",
    "    # transform to 8 flavor basis: sigma, g, v, v3, v8, t3, t8, t15\n",
    "    out = out[0,0,:,[1,2,3,4,5,9,10,11]]\n",
    "    nn_outputs.append(out)\n",
    "nn_outputs = np.array(nn_outputs)"
   ]
  },
  {
   "attachments": {},
   "cell_type": "markdown",
   "metadata": {},
   "source": [
    "# Plots"
   ]
  },
  {
   "cell_type": "code",
   "execution_count": null,
   "metadata": {},
   "outputs": [],
   "source": [
    "# plot settings\n",
    "pdf_names = [\"\\Sigma\", \"g\", \"V\", \"V3\", \"V8\", \"T3\", \"T8\", \"T15\"]\n",
    "color = \"C0\""
   ]
  },
  {
   "cell_type": "code",
   "execution_count": null,
   "metadata": {},
   "outputs": [],
   "source": [
    "xgrid_plot = input_xgrid.flatten()"
   ]
  },
  {
   "cell_type": "code",
   "execution_count": null,
   "metadata": {},
   "outputs": [],
   "source": [
    "plt.clf()\n",
    "fig, axs = plt.subplots(nrows=4, ncols=2, figsize=(9, 18))\n",
    "for i, (name, ax) in enumerate(zip(pdf_names, axs.flatten())):\n",
    "    ax.plot(xgrid_plot, input_xgrid[:,:,0].T*nn_outputs[:,i,:].T, color=color, lw=0.2)\n",
    "    pdf_cv = nn_outputs[:,i,:].mean(axis=0)\n",
    "    ax.plot(xgrid_plot, xgrid_plot*pdf_cv, color=color, lw=2)\n",
    "    ax.set_xscale(\"log\")\n",
    "    ax.set_xlabel(r\"$x$\")\n",
    "    ax.set_ylabel(rf\"$x{name}(x)$\")\n",
    "    ax.set_xlim(1e-5,1)\n",
    "\n",
    "fig.suptitle(\"distribution of pdfs at initialization\\n\")\n",
    "fig.tight_layout()"
   ]
  },
  {
   "cell_type": "code",
   "execution_count": null,
   "metadata": {},
   "outputs": [],
   "source": [
    "plt.clf()\n",
    "fig, axs = plt.subplots(nrows=4, ncols=2, figsize=(9, 18))\n",
    "for i, (name, ax) in enumerate(zip(pdf_names, axs.flatten())):\n",
    "    pdf_cv = nn_outputs[:,i,:].mean(axis=0)\n",
    "    pdf_std = nn_outputs[:,i,:].std(axis=0)\n",
    "    cl_high = np.nanpercentile(nn_outputs[:,i,:], 84, axis=0)\n",
    "    cl_low = np.nanpercentile(nn_outputs[:,i,:], 16, axis=0)\n",
    "\n",
    "    # plot rep0 PDF\n",
    "    ax.plot(xgrid_plot, xgrid_plot*pdf_cv, color=color, lw=2, label=\"replica0\")\n",
    "\n",
    "    # 68%c.l. band\n",
    "    ax.fill_between(xgrid_plot, xgrid_plot*cl_low, xgrid_plot*cl_high, alpha=0.4, color=color, label=r\"1$\\sigma$\")\n",
    "\n",
    "    # 1 std lines\n",
    "    ax.plot(xgrid_plot, xgrid_plot*(pdf_cv - pdf_std), alpha=0.4,ls=\"dashed\", color=color)\n",
    "    ax.plot(xgrid_plot, xgrid_plot*(pdf_cv + pdf_std), alpha=0.4,ls=\"dashed\", color=color, label=\"68%c.l.\")\n",
    "\n",
    "    ax.legend()\n",
    "\n",
    "    ax.set_xscale(\"log\")\n",
    "    ax.set_xlabel(r\"$x$\")\n",
    "    ax.set_ylabel(rf\"$x{name}(x)$\")\n",
    "    ax.set_xlim(1e-5,1)\n",
    "\n",
    "fig.suptitle(\"distribution of pdfs at initialization\\n\")\n",
    "fig.tight_layout()"
   ]
  },
  {
   "attachments": {},
   "cell_type": "markdown",
   "metadata": {},
   "source": [
    "# Moments"
   ]
  },
  {
   "cell_type": "code",
   "execution_count": null,
   "metadata": {},
   "outputs": [],
   "source": [
    "# E[f_i](x)\n",
    "pdfs_cv = nn_outputs.mean(axis=0).T\n",
    "\n",
    "# Cov[f_i,f_j](x)\n",
    "pdfs_cov = np.array([np.cov(nn_outputs[:,:,i].T) for i in range(XGRID.size)])"
   ]
  },
  {
   "cell_type": "code",
   "execution_count": null,
   "metadata": {},
   "outputs": [],
   "source": [
    "(((nn_outputs[:1000].mean(axis=0) - nn_outputs[:1000])**5).mean(axis=0)).max()"
   ]
  },
  {
   "cell_type": "code",
   "execution_count": null,
   "metadata": {},
   "outputs": [],
   "source": [
    "aa=np.random.randn(1000,200*8)*1\n",
    "((aa.mean(axis=0) - aa)**3).mean(axis=0).max()"
   ]
  }
 ],
 "metadata": {
  "kernelspec": {
   "display_name": "nnpdf",
   "language": "python",
   "name": "python3"
  },
  "language_info": {
   "codemirror_mode": {
    "name": "ipython",
    "version": 3
   },
   "file_extension": ".py",
   "mimetype": "text/x-python",
   "name": "python",
   "nbconvert_exporter": "python",
   "pygments_lexer": "ipython3",
   "version": "3.12.8"
  },
  "orig_nbformat": 4
 },
 "nbformat": 4,
 "nbformat_minor": 2
}
