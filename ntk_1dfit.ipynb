{
 "cells": [
  {
   "cell_type": "code",
   "execution_count": null,
   "metadata": {},
   "outputs": [],
   "source": [
    "import tensorflow as tf\n",
    "from tensorflow import keras\n",
    "from tensorflow.keras.models import Sequential\n",
    "import numpy as np\n",
    "from lhapdf import mkPDF, setVerbosity\n",
    "\n",
    "tf.keras.backend.clear_session()\n",
    "setVerbosity(0)"
   ]
  },
  {
   "cell_type": "code",
   "execution_count": null,
   "metadata": {},
   "outputs": [],
   "source": [
    "pdf_set = \"NNPDF40_nnlo_as_01180\"\n",
    "pdf_target = mkPDF(pdf_set)\n",
    "\n",
    "\n",
    "def pid_to_latex(pid):\n",
    "    \"\"\"Function to translate the PID number into latex values, useful for plotting\"\"\"\n",
    "    translate = {21: \"g\", 1: \"d\", 2: \"u\", 3: \"s\", 4: \"c\", 5: \"b\", 6: \"t\"}\n",
    "    flav = translate[abs(pid)]\n",
    "    if pid < 0:\n",
    "        flav = rf\"\\bar{{{flav}}}\"\n",
    "    return flav"
   ]
  },
  {
   "cell_type": "code",
   "execution_count": null,
   "metadata": {},
   "outputs": [],
   "source": [
    "q0 = 1.65  # Reference scale\n",
    "npoints = int(5e4)  # How many points to use for training\n",
    "xgrid = np.concatenate([np.logspace(-5, -1, npoints // 2), np.linspace(0.1, 1, npoints // 2)])\n",
    "pdf_grid_all = pdf_target.xfxQ2(xgrid, np.ones_like(xgrid) * q0**2)"
   ]
  },
  {
   "cell_type": "code",
   "execution_count": null,
   "metadata": {},
   "outputs": [],
   "source": [
    "def generate_model(outputs=1, input_layer=None, nlayers=3, units=14, activation=\"tanh\"):\n",
    "    \"\"\"\n",
    "    Create a tensorflow sequential model where all intermediate layers have the same size\n",
    "    This function accepts an already constructed layer as the input.\n",
    "\n",
    "    All hidden layers will have the same number of nodes for simplicity\n",
    "\n",
    "    Arguments:\n",
    "        outputs: int (default=1)\n",
    "            number of output nodes (how many flavours are we training)\n",
    "        input_layer: KerasTensor (default=None)\n",
    "            if given, sets the input layer of the sequential model\n",
    "        nlayers: int\n",
    "            number of hidden layers of the network\n",
    "        units: int\n",
    "            number of nodes of every hidden layer in the network\n",
    "        activation: str\n",
    "            activation function to be used by the hidden layers (ex: 'tanh', 'sigmoid', 'linear')\n",
    "    \"\"\"\n",
    "    model = Sequential(name=\"pdf\")\n",
    "    if input_layer is not None:\n",
    "        model.add(input_layer)\n",
    "    for _ in range(nlayers):\n",
    "        model.add(keras.layers.Dense(units, activation=activation))\n",
    "    model.add(keras.layers.Dense(outputs, activation=\"linear\"))\n",
    "\n",
    "    opt = keras.optimizers.Nadam()\n",
    "    model.compile(opt, loss=\"mse\")\n",
    "    return model\n",
    "\n",
    "\n",
    "pdf_model = generate_model()"
   ]
  },
  {
   "cell_type": "code",
   "execution_count": null,
   "metadata": {},
   "outputs": [],
   "source": [
    "# NOTE: for now compute only for the gluon. NTK with more outputs simply means a higher dimentionsal NTK\n",
    "target_pid = 21\n",
    "name = pid_to_latex(target_pid)\n",
    "\n",
    "parton_data = np.array([pdf_grid[target_pid] for pdf_grid in pdf_grid_all])[::200]\n",
    "\n",
    "# The tensorflow model expects the input to be (ndim, batch_size) in our case ndim = 1 (x)\n",
    "input_xgrid = xgrid[::200].reshape(-1,1)"
   ]
  },
  {
   "cell_type": "code",
   "execution_count": null,
   "metadata": {},
   "outputs": [],
   "source": [
    "def compute_ntk(model, input):\n",
    "    grad = []\n",
    "    for x in tf.convert_to_tensor(input):\n",
    "        with tf.GradientTape() as tape:\n",
    "            x = tf.reshape(x, shape=(-1,1))\n",
    "            tape.watch(x)\n",
    "            pred = model(x)\n",
    "\n",
    "        # compute gradients df(x)/dtheta\n",
    "        g = tape.gradient(pred, model.trainable_variables)\n",
    "        # concatenate the gradients of all trainable variables,\n",
    "        # not discriminating between weights and biases\n",
    "        g = tf.concat([tf.reshape(i, shape=(-1,1)) for i in g], axis=0)\n",
    "        grad.append(g)\n",
    "\n",
    "    grad = tf.concat(grad,axis=1)\n",
    "    ntk = tf.einsum('ij,ik->jk',grad,grad)\n",
    "    return ntk\n"
   ]
  },
  {
   "cell_type": "code",
   "execution_count": null,
   "metadata": {},
   "outputs": [],
   "source": [
    "ntks = []\n",
    "for epochs in 10*[2]:\n",
    "    pdf_model.fit(input_xgrid, parton_data, epochs=epochs, validation_split=0.3)\n",
    "    ntks.append(compute_ntk(pdf_model,input_xgrid))"
   ]
  }
 ],
 "metadata": {
  "kernelspec": {
   "display_name": "nnpdf",
   "language": "python",
   "name": "python3"
  },
  "language_info": {
   "codemirror_mode": {
    "name": "ipython",
    "version": 3
   },
   "file_extension": ".py",
   "mimetype": "text/x-python",
   "name": "python",
   "nbconvert_exporter": "python",
   "pygments_lexer": "ipython3",
   "version": "3.9.18"
  }
 },
 "nbformat": 4,
 "nbformat_minor": 2
}
